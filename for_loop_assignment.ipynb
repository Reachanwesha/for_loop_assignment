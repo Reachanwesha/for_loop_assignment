{
 "cells": [
  {
   "cell_type": "markdown",
   "id": "b0646179",
   "metadata": {},
   "source": [
    "# Basic level-"
   ]
  },
  {
   "cell_type": "code",
   "execution_count": 1,
   "id": "fc9040ff",
   "metadata": {},
   "outputs": [
    {
     "name": "stdout",
     "output_type": "stream",
     "text": [
      "1\n",
      "2\n",
      "3\n",
      "4\n",
      "5\n",
      "6\n",
      "7\n",
      "8\n",
      "9\n",
      "10\n"
     ]
    }
   ],
   "source": [
    "#Write a Python program to print the numbers from 1 to 10 using a `for` loop.\n",
    "for i in range(1,11):\n",
    "    print(i)"
   ]
  },
  {
   "cell_type": "code",
   "execution_count": 3,
   "id": "d37ff493",
   "metadata": {},
   "outputs": [
    {
     "name": "stdout",
     "output_type": "stream",
     "text": [
      "55\n"
     ]
    }
   ],
   "source": [
    "#Create a program that calculates the sum of all numbers in a list using a `for` loop.\n",
    "sum_= 0\n",
    "for i in range(1,11):\n",
    "    sum_=sum_+(i)\n",
    "print(sum_)"
   ]
  },
  {
   "cell_type": "code",
   "execution_count": 23,
   "id": "26e3f3ff",
   "metadata": {},
   "outputs": [
    {
     "name": "stdout",
     "output_type": "stream",
     "text": [
      "j,i,h,g,f,e,d,c,b,a"
     ]
    }
   ],
   "source": [
    "#Write a program to print the characters of a string in reverse order using a `for` loop.\n",
    "my_str = \"a,b,c,d,e,f,g,h,i,j\"\n",
    "for i in my_str[::-1]:\n",
    "    print(i, end =\"\")"
   ]
  },
  {
   "cell_type": "code",
   "execution_count": 43,
   "id": "a7675d9d",
   "metadata": {},
   "outputs": [
    {
     "name": "stdout",
     "output_type": "stream",
     "text": [
      "enter the number you wish to know the factorial of ?4\n",
      "Factorial of 4 is 24\n"
     ]
    }
   ],
   "source": [
    "#Develop a program that finds the factorial of a given number using a `for` loop.\n",
    "fact = 1\n",
    "num = int(input('enter the number you wish to know the factorial of ?'))\n",
    "for number in range(1,num+1):\n",
    "    fact = fact * number\n",
    "print (\"Factorial of\", num, \"is\", fact)"
   ]
  },
  {
   "cell_type": "code",
   "execution_count": 65,
   "id": "c0fd1872",
   "metadata": {},
   "outputs": [
    {
     "name": "stdout",
     "output_type": "stream",
     "text": [
      "Enter the number of which the user wants to print the multiplication table: 2\n",
      "The Multiplication Table of:  2\n",
      "2 x 1 = 2\n",
      "2 x 2 = 4\n",
      "2 x 3 = 6\n",
      "2 x 4 = 8\n",
      "2 x 5 = 10\n",
      "2 x 6 = 12\n",
      "2 x 7 = 14\n",
      "2 x 8 = 16\n",
      "2 x 9 = 18\n",
      "2 x 10 = 20\n"
     ]
    }
   ],
   "source": [
    "#Create a program to print the multiplication table of a given number using a `for` loop.\n",
    "number = int(input (\"Enter the number of which the user wants to print the multiplication table: \"))\n",
    "print (\"The Multiplication Table of: \", number)\n",
    "for count in range(1, 11):\n",
    "    print (number, 'x', count, '=', number * count)\n"
   ]
  },
  {
   "cell_type": "code",
   "execution_count": 19,
   "id": "0559b558",
   "metadata": {},
   "outputs": [
    {
     "name": "stdout",
     "output_type": "stream",
     "text": [
      "the number of odd numbers are  1\n",
      "the number of even numbers are  2\n",
      "the number of odd numbers are  3\n",
      "the number of even numbers are  4\n",
      "the number of odd numbers are  5\n",
      "the number of even numbers are  6\n",
      "the number of odd numbers are  7\n",
      "the number of even numbers are  8\n",
      "the number of odd numbers are  9\n",
      "the number of even numbers are  10\n"
     ]
    }
   ],
   "source": [
    "#Write a program that counts the number of even and odd numbers in a list using a `for` loop.\n",
    "mylist = [1,2,3,4,5,6,7,8,9,10]\n",
    "count=[]\n",
    "for i in mylist:\n",
    "    if (i%2==0):\n",
    "        print('the number of even numbers are ', i)\n",
    "    else:\n",
    "        if (i!=0):\n",
    "            print('the number of odd numbers are ', i)"
   ]
  },
  {
   "cell_type": "code",
   "execution_count": 2,
   "id": "6117afce",
   "metadata": {},
   "outputs": [
    {
     "name": "stdout",
     "output_type": "stream",
     "text": [
      "List with square of integers from 1 to 5: [1, 4, 9, 16, 25]\n"
     ]
    }
   ],
   "source": [
    "# Develop a program that prints the squares of numbers from 1 to 5 using a `for` loop.\n",
    "l = []\n",
    "for i in range(1,6):\n",
    "    l.append(i ** 2)\n",
    "print(\"List with square of integers from 1 to 5:\",l)\n",
    "\n",
    "        "
   ]
  },
  {
   "cell_type": "code",
   "execution_count": 18,
   "id": "03860746",
   "metadata": {},
   "outputs": [
    {
     "name": "stdout",
     "output_type": "stream",
     "text": [
      "enter your string:123456789\n",
      "9\n"
     ]
    }
   ],
   "source": [
    "#Create a program to find the length of a string without using the `len()` function.\n",
    "sen = str(input('enter your string:'))\n",
    "sen1=sum(1 for x in sen)\n",
    "print(sen1)"
   ]
  },
  {
   "cell_type": "code",
   "execution_count": 8,
   "id": "ca32dbd0",
   "metadata": {},
   "outputs": [
    {
     "name": "stdout",
     "output_type": "stream",
     "text": [
      "36\n",
      "0\n"
     ]
    }
   ],
   "source": [
    "#Write a program that calculates the average of a list of numbers using a `for` loop.\n",
    "sum_=0\n",
    "a=[]\n",
    "mylist = [1,2,3,4,5,6,7,8]\n",
    "for i in mylist:\n",
    "    sum_=sum(mylist)\n",
    "print(sum_)\n",
    "a=sum_%2\n",
    "print(a) "
   ]
  },
  {
   "cell_type": "code",
   "execution_count": 16,
   "id": "65876655",
   "metadata": {},
   "outputs": [
    {
     "name": "stdout",
     "output_type": "stream",
     "text": [
      "average of all the elements in mylist-: 18\n"
     ]
    }
   ],
   "source": [
    "\n",
    "mylist = [1,2,3,4,5,6,7,8]\n",
    "sum_= int(sum(mylist))\n",
    "print('average of all the elements in mylist-:',sum_//2)\n"
   ]
  },
  {
   "cell_type": "code",
   "execution_count": 12,
   "id": "17789b41",
   "metadata": {},
   "outputs": [
    {
     "name": "stdout",
     "output_type": "stream",
     "text": [
      "0\n",
      "1\n",
      "1\n",
      "2\n",
      "3\n",
      "5\n",
      "8\n",
      "13\n",
      "21\n",
      "34\n",
      "55\n",
      "89\n"
     ]
    }
   ],
   "source": [
    "#Develop a program that prints the first `n` Fibonacci numbers using a `for` loop.\n",
    "first = 0\n",
    "second = 1\n",
    "print(first)\n",
    "print(second)\n",
    "for x in range(1,11):\n",
    "    third = first + second\n",
    "    print(third)\n",
    "    first,second=second,third"
   ]
  },
  {
   "cell_type": "markdown",
   "id": "ba98acfe",
   "metadata": {},
   "source": [
    "# Intermediate level"
   ]
  },
  {
   "cell_type": "code",
   "execution_count": 16,
   "id": "754afbd7",
   "metadata": {},
   "outputs": [
    {
     "name": "stdout",
     "output_type": "stream",
     "text": [
      "given list contains duplicates \n"
     ]
    }
   ],
   "source": [
    "#Write a program to check if a given list contains any duplicates using a `for` loop.\n",
    "mylist = [1,2,3,4,5,6,7,8,9,6,31,22,1]\n",
    "dup=[]\n",
    "for i in mylist:\n",
    "    dup.append(i)\n",
    "if (dup==mylist):\n",
    "    print('given list contains duplicates ')"
   ]
  },
  {
   "cell_type": "code",
   "execution_count": 22,
   "id": "fd466b5c",
   "metadata": {},
   "outputs": [
    {
     "name": "stdout",
     "output_type": "stream",
     "text": [
      "Please, Enter the Lowest Range Value: 1\n",
      "Please, Enter the Upper Range Value: 51\n",
      "The Prime Numbers in the range are: \n",
      "2\n",
      "3\n",
      "5\n",
      "7\n",
      "11\n",
      "13\n",
      "17\n",
      "19\n",
      "23\n",
      "29\n",
      "31\n",
      "37\n",
      "41\n",
      "43\n",
      "47\n"
     ]
    }
   ],
   "source": [
    "# Create a program that prints the prime numbers in a given range using a `for` loop.\n",
    "lower_value = int(input (\"Please, Enter the Lowest Range Value: \"))  \n",
    "upper_value = int(input (\"Please, Enter the Upper Range Value: \"))  \n",
    "  \n",
    "print (\"The Prime Numbers in the range are: \")  \n",
    "for number in range (lower_value, upper_value + 1):  \n",
    "    if number > 1:  \n",
    "        for i in range (2, number):  \n",
    "            if (number % i) == 0:  \n",
    "                break  \n",
    "        else:  \n",
    "            print (number)  \n",
    "            "
   ]
  },
  {
   "cell_type": "code",
   "execution_count": 10,
   "id": "eea50d19",
   "metadata": {},
   "outputs": [
    {
     "name": "stdout",
     "output_type": "stream",
     "text": [
      "enter your string:dfghju789 ijhgfdc\n",
      "2\n"
     ]
    }
   ],
   "source": [
    "#Develop a program that counts the number of vowels in a string using a `for` loop.\n",
    "string = str(input('enter your string:'))\n",
    "vowels = ['a','e','i','o','u']\n",
    "count=0\n",
    "for x in string:\n",
    "    for y in vowels:\n",
    "        if (x==y):\n",
    "            count += 1\n",
    "print(count)"
   ]
  },
  {
   "cell_type": "code",
   "execution_count": 13,
   "id": "233c84ff",
   "metadata": {},
   "outputs": [
    {
     "name": "stdout",
     "output_type": "stream",
     "text": [
      "23\n"
     ]
    }
   ],
   "source": [
    "#Write a program to find the maximum element in a 2D list using a nested `for` loop.\n",
    "mylist = [2,3,5,7,11,13,17,19,23]\n",
    "maxlist = []\n",
    "for i in mylist:\n",
    "    maxlist = (max(mylist))\n",
    "print(maxlist)\n"
   ]
  },
  {
   "cell_type": "code",
   "execution_count": 16,
   "id": "91ac2ba1",
   "metadata": {},
   "outputs": [
    {
     "name": "stdout",
     "output_type": "stream",
     "text": [
      "['apple', 'banana', 'litchi', 'grapes', 'guava']\n"
     ]
    }
   ],
   "source": [
    "#Create a program that removes all occurrences of a specific element from a list using a `for` loop.\n",
    "mylist = ['apple','banana','sephora','litchi','grapes','sephora','guava']\n",
    "to_check = ['sephora']\n",
    "for x in mylist:\n",
    "    for y in to_check:\n",
    "        if (x==y):\n",
    "            mylist.remove('sephora')\n",
    "print(mylist)"
   ]
  },
  {
   "cell_type": "code",
   "execution_count": 25,
   "id": "52ea973e",
   "metadata": {},
   "outputs": [
    {
     "name": "stdout",
     "output_type": "stream",
     "text": [
      "1 x 1 = 1\n",
      "2 x 1 = 2\n",
      "3 x 1 = 3\n",
      "4 x 1 = 4\n",
      "5 x 1 = 5\n",
      "1 x 2 = 2\n",
      "2 x 2 = 4\n",
      "3 x 2 = 6\n",
      "4 x 2 = 8\n",
      "5 x 2 = 10\n",
      "1 x 3 = 3\n",
      "2 x 3 = 6\n",
      "3 x 3 = 9\n",
      "4 x 3 = 12\n",
      "5 x 3 = 15\n",
      "1 x 4 = 4\n",
      "2 x 4 = 8\n",
      "3 x 4 = 12\n",
      "4 x 4 = 16\n",
      "5 x 4 = 20\n",
      "1 x 5 = 5\n",
      "2 x 5 = 10\n",
      "3 x 5 = 15\n",
      "4 x 5 = 20\n",
      "5 x 5 = 25\n"
     ]
    }
   ],
   "source": [
    "#Develop a program that generates a multiplication table for numbers from 1 to 5 using a nested `for` loop. \n",
    "for x in range(1,6):\n",
    "    for y in range(1,6):\n",
    "        print(y,'x',x,'=', x * y)"
   ]
  },
  {
   "cell_type": "code",
   "execution_count": 3,
   "id": "b54f0db5",
   "metadata": {},
   "outputs": [
    {
     "name": "stdout",
     "output_type": "stream",
     "text": [
      "53.6\n",
      "71.6\n",
      "113.0\n",
      "96.8\n",
      "107.6\n",
      "111.2\n",
      "127.4\n"
     ]
    }
   ],
   "source": [
    "#Write a program that converts a list of Fahrenheit temperatures to Celsius using a `for` loop.\n",
    "mytemp = [12,22,45,36,42,44,53]\n",
    "fahrenit = []\n",
    "count = 0\n",
    "for i in mytemp:\n",
    "    fahrenit=(i*9/5)+32\n",
    "    count+=1\n",
    "    print(fahrenit)\n",
    "\n",
    "   "
   ]
  },
  {
   "cell_type": "code",
   "execution_count": 7,
   "id": "b94a53e0",
   "metadata": {},
   "outputs": [
    {
     "name": "stdout",
     "output_type": "stream",
     "text": [
      "common elements from two lists  1\n",
      "common elements from two lists  60\n",
      "No common elements from two lists\n"
     ]
    }
   ],
   "source": [
    "#Create a program to print the common elements from two lists using a `for` loop.\n",
    "mylist1 = [ 5 ,1,0, 15, 20, 25, 30, 35, 40, 45, 50, 55, 60 ]\n",
    "mylist2 = [60,1,2,12]\n",
    "for i in mylist1:\n",
    "    for j in mylist2:\n",
    "        if (i==j):\n",
    "            print('common elements from two lists ',i)\n",
    "else:\n",
    "    print('No common elements from two lists')"
   ]
  },
  {
   "cell_type": "code",
   "execution_count": 22,
   "id": "b33b92fa",
   "metadata": {},
   "outputs": [
    {
     "name": "stdout",
     "output_type": "stream",
     "text": [
      "Enter row number=\n",
      "10\n",
      "*\n",
      "**\n",
      "***\n",
      "****\n",
      "*****\n",
      "******\n",
      "*******\n",
      "********\n",
      "*********\n",
      "**********\n"
     ]
    }
   ],
   "source": [
    "#Develop a program that prints the pattern of right-angled triangles using a `for` loop. Use ‘*’ to draw the\n",
    "#pattern\n",
    "x=int(input(\"Enter row number=\\n\"))\n",
    "for i in range(x):\n",
    "    for j in range(i+1):\n",
    "        print(\"*\",end='')\n",
    "    print(\"\")"
   ]
  },
  {
   "cell_type": "code",
   "execution_count": 27,
   "id": "efa0b102",
   "metadata": {},
   "outputs": [
    {
     "name": "stdout",
     "output_type": "stream",
     "text": [
      "enter a number: 6\n",
      "enter a number: 36\n",
      "GCD of 6 and 36 is 3\n"
     ]
    }
   ],
   "source": [
    "#Write a program to find the greatest common divisor (GCD) of two numbers using a `for` loop.\n",
    "num1 = int(input('enter a number: '))\n",
    "num2 = int(input('enter a number: '))\n",
    "gcd = 1\n",
    " \n",
    "for i in range(1, min(num1, num2)):\n",
    "    if num1 % i == 0 and num2 % i == 0:\n",
    "        gcd = i\n",
    "print(\"GCD of\", num1, \"and\", num2, \"is\", gcd)\n"
   ]
  },
  {
   "cell_type": "markdown",
   "id": "72afed78",
   "metadata": {},
   "source": [
    "# Advance"
   ]
  },
  {
   "cell_type": "code",
   "execution_count": 8,
   "id": "d3cf8b7f",
   "metadata": {},
   "outputs": [
    {
     "name": "stdout",
     "output_type": "stream",
     "text": [
      "21\n"
     ]
    }
   ],
   "source": [
    "#21. Create a program that calculates the sum of the digits of numbers in a list using a list comprehension.\n",
    "lst = [1,2,3,4,5,6]\n",
    "a=[]\n",
    "a=sum([x for x in lst])\n",
    "print(a)"
   ]
  },
  {
   "cell_type": "code",
   "execution_count": 14,
   "id": "d65d006a",
   "metadata": {},
   "outputs": [
    {
     "data": {
      "text/plain": [
       "[2, 3, 4, 5, 7, 11, 13, 17, 19]"
      ]
     },
     "execution_count": 14,
     "metadata": {},
     "output_type": "execute_result"
    }
   ],
   "source": [
    "##Write a program to find the prime factors of a given number using a `for` loop \n",
    "#and list comprehension.\n",
    "[x for x in range(2, 20)\n",
    "     if all(x % y for y in range(2, x//2))]\n",
    "[2, 3, 5, 7, 11, 13, 17, 19]"
   ]
  },
  {
   "cell_type": "code",
   "execution_count": 45,
   "id": "ea18c102",
   "metadata": {},
   "outputs": [
    {
     "name": "stdout",
     "output_type": "stream",
     "text": [
      "[1, 2, 3, 4, 10]\n"
     ]
    }
   ],
   "source": [
    "\n",
    "#Develop a program that extracts unique elements from a list and stores them in a \n",
    "#new list using a list comprehension.\n",
    "lst1 = [1,2,3,4,10,3,]\n",
    "lst2=[]\n",
    "[ lst2.append(x)  for x in lst1 if x not in lst2 ]\n",
    "print(lst2)"
   ]
  },
  {
   "cell_type": "code",
   "execution_count": 7,
   "id": "8ff9ea9b",
   "metadata": {},
   "outputs": [
    {
     "name": "stdout",
     "output_type": "stream",
     "text": [
      "['ala', 'wow']\n"
     ]
    }
   ],
   "source": [
    "#Create a program that generates a list of all palindromic numbers up to a specified limit\n",
    "#using a list comprehension.\n",
    "\n",
    "lst=['ala','boy','ice','wow']\n",
    "word=[w for w in lst if w==w[::-1]]\n",
    "print(word)"
   ]
  },
  {
   "cell_type": "code",
   "execution_count": 1,
   "id": "e12c3aaf",
   "metadata": {},
   "outputs": [
    {
     "name": "stdout",
     "output_type": "stream",
     "text": [
      "[9, 3, 8, 3, 4, 5, 2, 8, 6, 4, 3, 1, 1, 0, 4, 5]\n"
     ]
    }
   ],
   "source": [
    "#Write a program to flatten a nested list using list comprehension.\n",
    "mylist = [[9, 3, 8, 3],\n",
    "     [4, 5, 2, 8],\n",
    "     [6, 4, 3, 1],\n",
    "     [1, 0, 4, 5],]\n",
    "flatlist=[]\n",
    "for sublist in mylist:\n",
    "    for element in sublist:\n",
    "        flatlist.append(element)\n",
    "print(flatlist)\n"
   ]
  },
  {
   "cell_type": "code",
   "execution_count": null,
   "id": "91e1cc84",
   "metadata": {},
   "outputs": [],
   "source": []
  },
  {
   "cell_type": "code",
   "execution_count": 9,
   "id": "367fb593",
   "metadata": {},
   "outputs": [
    {
     "data": {
      "text/plain": [
       "[9, 3, 8, 3, 4, 5, 2, 8, 6, 4, 3, 1, 1, 0, 4, 5]"
      ]
     },
     "execution_count": 9,
     "metadata": {},
     "output_type": "execute_result"
    }
   ],
   "source": [
    "def flatten_comprehension(matrix):\n",
    "    return [item for row in mylist for item in row]\n",
    "mylist = [\n",
    "    [9, 3, 8, 3],\n",
    "    [4, 5, 2, 8],\n",
    "    [6, 4, 3, 1],\n",
    "    [1, 0, 4, 5],\n",
    " ]\n",
    "\n",
    "flatten_comprehension(mylist)"
   ]
  },
  {
   "cell_type": "code",
   "execution_count": 28,
   "id": "bc3c168d",
   "metadata": {},
   "outputs": [
    {
     "name": "stdout",
     "output_type": "stream",
     "text": [
      "Even Sum :  30\n",
      "Odd Sum :  25\n"
     ]
    }
   ],
   "source": [
    "#26. Develop a program that computes the sum of even and odd numbers in a list separately using list\n",
    "#comprehension.\n",
    "test_list = [1,2,3,4,5,6,7,8,9,10]\n",
    "even_sum=0\n",
    "odd_sum=0\n",
    "even=[num for num in test_list if num % 2==0]\n",
    "for i in even:\n",
    "    even_sum+=i\n",
    "print (\"Even Sum : \",even_sum)\n",
    "odd=[num for num in test_list if num % 2!=0]\n",
    "for i in odd:\n",
    "    odd_sum+=i\n",
    "print (\"Odd Sum : \",odd_sum)\n",
    "\n",
    "\n"
   ]
  },
  {
   "cell_type": "code",
   "execution_count": 30,
   "id": "5be7d802",
   "metadata": {},
   "outputs": [
    {
     "name": "stdout",
     "output_type": "stream",
     "text": [
      "[1, 3, 5, 7, 9]\n"
     ]
    }
   ],
   "source": [
    "#Create a program that generates a list of squares of odd numbers between 1 and 10 using list\n",
    "#comprehension.\n",
    "\n",
    "odd=[num for num in range(1,11) if num % 2!=0]\n",
    "print(odd)"
   ]
  },
  {
   "cell_type": "code",
   "execution_count": 32,
   "id": "943448af",
   "metadata": {},
   "outputs": [
    {
     "name": "stdout",
     "output_type": "stream",
     "text": [
      "['a', 'b', 'c', 'd', 'e']\n",
      "[11, 12, 13, 14, 15]\n",
      "{'a': 11, 'b': 12, 'c': 13, 'd': 14, 'e': 15}\n"
     ]
    }
   ],
   "source": [
    "#28. Write a program that combines two lists into a dictionary using list comprehension.\n",
    "li1=['a','b','c','d','e']\n",
    "li2=[11,12,13,14,15]\n",
    "print(str(li1))\n",
    "print(str(li2))\n",
    "dic={li1[i]:li2[i] for i in range(len(li1))}\n",
    "print(dic)"
   ]
  },
  {
   "cell_type": "code",
   "execution_count": 38,
   "id": "def48401",
   "metadata": {},
   "outputs": [
    {
     "name": "stdout",
     "output_type": "stream",
     "text": [
      "a,b,c,d,e,i,o,u\n",
      "['a,e,i,o,u']\n"
     ]
    }
   ],
   "source": [
    "#29. Develop a program that extracts the vowels from a string and stores them in a list using list comprehension.\n",
    "vow=\"a,b,c,d,e,i,o,u\"\n",
    "print(str(vow))\n",
    "lst=['a,e,i,o,u']\n",
    "lst2=[]\n",
    "[lst2.append(x)  for x in lst if x not in vow ]\n",
    "print(lst2)\n"
   ]
  },
  {
   "cell_type": "code",
   "execution_count": 27,
   "id": "becabd3c",
   "metadata": {},
   "outputs": [
    {
     "name": "stdout",
     "output_type": "stream",
     "text": [
      "['alice', 'bob', 'cara']\n"
     ]
    }
   ],
   "source": [
    "#Create a program that removes all non-numeric characters from a list of strings using list comprehension.\n",
    "def remove_digits(strings):\n",
    "    def is_alpha(char):\n",
    "        return char.isalpha()\n",
    "    return [''.join(filter(is_alpha, string)) for string in strings]\n",
    " \n",
    "strings = ['alice1', 'bob2', 'cara3']\n",
    "print(remove_digits(strings)) "
   ]
  },
  {
   "cell_type": "markdown",
   "id": "ff4f4f4b",
   "metadata": {},
   "source": [
    "# Challenge Level:"
   ]
  },
  {
   "cell_type": "code",
   "execution_count": 30,
   "id": "dfb6c446",
   "metadata": {},
   "outputs": [
    {
     "name": "stdout",
     "output_type": "stream",
     "text": [
      "Following are the prime numbers smaller\n",
      "than or equal to 20\n",
      "2\n",
      "3\n",
      "5\n",
      "7\n",
      "11\n",
      "13\n",
      "17\n",
      "19\n"
     ]
    }
   ],
   "source": [
    "#1 Write a program to generate a list of prime numbers using the Sieve of Eratosthenes algorithm and list\n",
    "#comprehension.\n",
    "def SieveOfEratosthenes(n):\n",
    "    prime = [True for i in range(n+1)]\n",
    "    p = 2\n",
    "    while (p * p <= n):\n",
    "        if (prime[p] == True):\n",
    "            for i in range(p * p, n+1, p):\n",
    "                prime[i] = False\n",
    "        p += 1\n",
    "    for p in range(2, n+1):\n",
    "        if prime[p]:\n",
    "            print(p)\n",
    "if __name__ == '__main__':\n",
    "    n = 20\n",
    "    print(\"Following are the prime numbers smaller\"),\n",
    "    print(\"than or equal to\", n)\n",
    "    SieveOfEratosthenes(n)"
   ]
  },
  {
   "cell_type": "code",
   "execution_count": null,
   "id": "42fe6a9c",
   "metadata": {},
   "outputs": [],
   "source": []
  }
 ],
 "metadata": {
  "kernelspec": {
   "display_name": "Python 3",
   "language": "python",
   "name": "python3"
  },
  "language_info": {
   "codemirror_mode": {
    "name": "ipython",
    "version": 3
   },
   "file_extension": ".py",
   "mimetype": "text/x-python",
   "name": "python",
   "nbconvert_exporter": "python",
   "pygments_lexer": "ipython3",
   "version": "3.8.8"
  }
 },
 "nbformat": 4,
 "nbformat_minor": 5
}
